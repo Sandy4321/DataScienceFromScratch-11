{
 "cells": [
  {
   "cell_type": "markdown",
   "metadata": {},
   "source": [
    "#### What is a decision tree?\n",
    "\n",
    "\"A decision tree uses a tree structure to represent a number of possible decision pathsand an outcome for each path.\""
   ]
  },
  {
   "cell_type": "markdown",
   "metadata": {},
   "source": [
    "- \"They’re very easy to understand and interpret, and the process by which they reach a prediction is completely transparent.\"\n",
    "- \"decision trees can easily handle a mix of numeric and categorical attributes and can even classify data for which attributes are missing.\""
   ]
  },
  {
   "cell_type": "markdown",
   "metadata": {},
   "source": [
    "- \"At the same time, finding an “optimal” decision tree for a set of training data is computationally a very hard problem.\"\n",
    "- \"More important, it is very easy (and very bad) to build decision trees that are overfitted to the training data, and that don’t generalize well to unseen data.\""
   ]
  },
  {
   "cell_type": "markdown",
   "metadata": {},
   "source": [
    "#### Entropy"
   ]
  },
  {
   "cell_type": "markdown",
   "metadata": {},
   "source": [
    "\"we’d like to choose questions whose answers give a lot of information about what our tree should predict. If there’s a single yes/no question for which 'yes' answers always correspond to True outputs and “no” answers to False outputs (or vice versa), this would be an awesome question to pick. Conversely, a yes/no question\n",
    "for which neither answer gives you much new information about what the prediction should be is probably not a good choice.\""
   ]
  },
  {
   "cell_type": "markdown",
   "metadata": {},
   "source": [
    "\"We capture this notion of 'how much information' with **entropy**. \\[...\\] We use it to represent the uncertainty associated\n",
    "with data.\""
   ]
  },
  {
   "cell_type": "markdown",
   "metadata": {},
   "source": [
    "\"Imagine that we have a set $S$ of data, each member of which is labeled as belonging to one of a finite number of classes $C_1, ..., C_n$.\"\n",
    "\n",
    "- \"If all the data points belong to a single class, then there is no real uncertainty, which means we’d like there to be low entropy.\"\n",
    "- \"If the data points are evenly spread across the classes, there is a lot of uncertainty and we’d like there to be high entropy.\""
   ]
  },
  {
   "cell_type": "markdown",
   "metadata": {},
   "source": [
    "\"In math terms, if $p_i$ is the proportion of data labeled as class $c_i$ , we define the entropy as:\"\n",
    "\n",
    "$H(S) = - p_1\\ \\log_{2} p_1 - ... - p_n\\ \\log_{2} p_n$\n",
    "\n",
    "with the (standard) convention that $0\\ \\log 0 = 0$."
   ]
  },
  {
   "cell_type": "markdown",
   "metadata": {},
   "source": [
    "\"each term $− p_i \\log_{2} p_i $ is non-negative and is close to zero precisely when p i is either close to zero or close to one\"."
   ]
  },
  {
   "cell_type": "code",
   "execution_count": 3,
   "metadata": {},
   "outputs": [
    {
     "data": {
      "text/plain": [
       "[<matplotlib.lines.Line2D at 0x7f7e520f5f28>]"
      ]
     },
     "execution_count": 3,
     "metadata": {},
     "output_type": "execute_result"
    },
    {
     "data": {
      "image/png": "[encoded data removed]",
      "text/plain": [
       "<Figure size 432x288 with 1 Axes>"
      ]
     },
     "metadata": {
      "needs_background": "light"
     },
     "output_type": "display_data"
    }
   ],
   "source": [
    "import numpy as np\n",
    "import matplotlib.pyplot as plt\n",
    "%matplotlib inline\n",
    "\n",
    "ps = np.linspace(0.01,1.0,100)\n",
    "ys = np.multiply(-ps,np.log(ps))\n",
    "\n",
    "plt.plot(ps,ys)"
   ]
  },
  {
   "cell_type": "markdown",
   "metadata": {},
   "source": [
    "\"This means the entropy will be small when every $p_i$ is close to $0$ or $1$ (i.e., when most of the data is in a single class), and it will be larger when many of the $p_i$’s are not close to $0$ (i.e., when the data is spread across multiple classes).\""
   ]
  },
  {
   "cell_type": "code",
   "execution_count": 5,
   "metadata": {},
   "outputs": [],
   "source": [
    "def entropy(class_probabilities):\n",
    "    \"\"\"\n",
    "    given a list of class probabilities, compute the entropy\n",
    "    \"\"\"\n",
    "    return sum(-p * math.log(p, 2) \n",
    "               for p in class_probabilities \n",
    "               if p) # ignore zero probs"
   ]
  },
  {
   "cell_type": "markdown",
   "metadata": {},
   "source": [
    "\"Our data will consist of pairs *(input, label)* , which means that we’ll need to compute the class probabilities ourselves. Observe that we don’t actually care which label is associated with each probability, only what the probabilities are:\""
   ]
  },
  {
   "cell_type": "code",
   "execution_count": 6,
   "metadata": {},
   "outputs": [],
   "source": [
    "from collections import Counter\n",
    "\n",
    "def class_probabilities(labels):\n",
    "    total_count = len(labels)\n",
    "    return [count / total_count \n",
    "            for count in Counter(labels).values()]\n",
    "\n",
    "def data_entropy(labeled_data):\n",
    "    labels = [label for _, label in labeled_data]\n",
    "    probabilities = class_probabilities(labels)\n",
    "    return entropy(probabilities)"
   ]
  },
  {
   "cell_type": "markdown",
   "metadata": {},
   "source": [
    "#### The Entropy of a Partition"
   ]
  },
  {
   "cell_type": "markdown",
   "metadata": {},
   "source": [
    "\"we’d like some notion of the entropy that results from partitioning a set of data in a certain way. We want a partition to have low entropy if it splits the data into subsets that themselves have low entropy (i.e., are highly certain), and high entropy if it contains subsets that (are large and) have high entropy (i.e., are highly\n",
    "uncertain).\""
   ]
  },
  {
   "cell_type": "markdown",
   "metadata": {},
   "source": [
    "\"Mathematically, if we partition our data $S$ into subsets $S_1 , ..., S_m$ containing proportions $q_1 , ..., q_m$ of the data, then we compute the entropy of the partition as a weighted sum:\"\n",
    "\n",
    "$H = q_1\\ H(S_1) + ... + q_m\\ H(S_m)$"
   ]
  },
  {
   "cell_type": "code",
   "execution_count": 7,
   "metadata": {},
   "outputs": [],
   "source": [
    "def partition_entropy(subsets):\n",
    "    \"\"\"\n",
    "    find the entropy from this partition of data into subsets\n",
    "    subsets is a list of lists of labeled data\n",
    "    \"\"\"\n",
    "    total_count = sum(len(subset) for subset in subsets)\n",
    "    return sum( data_entropy(subset) * len(subset) / total_count \n",
    "               for subset in subsets )"
   ]
  },
  {
   "cell_type": "markdown",
   "metadata": {},
   "source": [
    "\"**One problem with this approach is that partitioning by an attribute with many different values will result in a very low entropy due to overfitting. \\[...\\] For this reason, you should probably try to avoid (or bucket, if appropriate) attributes with large numbers of possible values when creating decision trees.**\""
   ]
  },
  {
   "cell_type": "markdown",
   "metadata": {},
   "source": [
    "#### Creating a Decision Tree"
   ]
  },
  {
   "cell_type": "markdown",
   "metadata": {},
   "source": [
    "\"Our tree will consist of decision nodes (which ask a question and direct us differently depending on the answer) and leaf nodes (which give us a prediction).\""
   ]
  },
  {
   "cell_type": "markdown",
   "metadata": {},
   "source": [
    "##### ID3 algorithm\n",
    "\n",
    "- \"If the data all have the same label, then create a leaf node that predicts that label and then stop.\"\n",
    "- \"If the list of attributes is empty (i.e., there are no more possible questions to ask), then create a leaf node that predicts the most common label and then stop.\"\n",
    "- \"Otherwise, try partitioning the data by each of the attributes\"\n",
    "- \"Choose the partition with the lowest partition entropy\"\n",
    "- \"Add a decision node based on the chosen attribute\"\n",
    "- \"Recur on each partitioned subset using the remaining attributes\""
   ]
  },
  {
   "cell_type": "markdown",
   "metadata": {},
   "source": [
    "\"This is what’s known as a 'greedy' algorithm because, at each step, it chooses the most immediately best option. Given a data set, there may be a better tree with a worse-looking first move. If so, this algorithm won’t find it. Nonetheless, it is relatively easy to understand and implement, which makes it a good place to begin\n",
    "exploring decision trees.\""
   ]
  },
  {
   "cell_type": "markdown",
   "metadata": {},
   "source": [
    "#### Random Forests"
   ]
  },
  {
   "cell_type": "markdown",
   "metadata": {},
   "source": [
    "\"Given how closely decision trees can fit themselves to their training data, it’s not surprising that they have a tendency to overfit. One way of avoiding this is a technique called random forests, in which we build multiple decision trees and let them vote on how to classify inputs\"."
   ]
  },
  {
   "cell_type": "markdown",
   "metadata": {},
   "source": [
    "\"Our tree-building process was deterministic, so how do we get random trees?\":\n",
    "\n",
    "- \"One piece involves bootstrapping data. Rather than training each tree on all the inputs in the training set, we train each tree on the result of bootstrap_sample(inputs) . Since each tree is built using different data, each tree will be different from every other tree.\"\n",
    "- \"A second source of randomness involves changing the way we chose the\n",
    "best_attribute to split on. Rather than looking at all the remaining attributes, we first choose a random subset of them and then split on whichever of those is best.\""
   ]
  },
  {
   "cell_type": "code",
   "execution_count": null,
   "metadata": {},
   "outputs": [],
   "source": []
  }
 ],
 "metadata": {
  "kernelspec": {
   "display_name": "Python 3",
   "language": "python",
   "name": "python3"
  },
  "language_info": {
   "codemirror_mode": {
    "name": "ipython",
    "version": 3
   },
   "file_extension": ".py",
   "mimetype": "text/x-python",
   "name": "python",
   "nbconvert_exporter": "python",
   "pygments_lexer": "ipython3",
   "version": "3.7.3"
  }
 },
 "nbformat": 4,
 "nbformat_minor": 2
}
