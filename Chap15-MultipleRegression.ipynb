{
 "cells": [
  {
   "cell_type": "markdown",
   "metadata": {},
   "source": [
    "$y_i = \\alpha + \\beta_1 \\cdot x_{i1} + \\beta_2 \\cdot x_{i2} + ... + \\beta_k \\cdot x_{ik} + \\varepsilon_i$"
   ]
  },
  {
   "cell_type": "markdown",
   "metadata": {},
   "source": [
    "~~~\n",
    "beta = [alpha, beta_1, ..., beta_k]\n",
    "~~~"
   ]
  },
  {
   "cell_type": "markdown",
   "metadata": {},
   "source": [
    "~~~\n",
    "x_i = [1, x_i1, ..., x_ik]\n",
    "~~~"
   ]
  },
  {
   "cell_type": "code",
   "execution_count": 1,
   "metadata": {},
   "outputs": [],
   "source": [
    "def dot(v, w):\n",
    "    \"\"\"\n",
    "    v_1 * w_1 + ... + v_n * w_n\n",
    "    \"\"\"\n",
    "    return sum(v_i * w_i \n",
    "               for v_i, w_i in zip(v, w))\n",
    "\n",
    "def predict(x_i, beta):\n",
    "    \"\"\"\n",
    "    assumes that the first element of each x_i is 1\n",
    "    \"\"\"\n",
    "    return dot(x_i, beta)"
   ]
  },
  {
   "cell_type": "markdown",
   "metadata": {},
   "source": [
    "#### Further Assumptions of the Least Squares Model"
   ]
  },
  {
   "cell_type": "markdown",
   "metadata": {},
   "source": [
    "\"There are a couple of further assumptions that are required for this model (and our solution) to make sense.\"\n",
    "* \"The first is that the columns of x are linearly independent—that there’s no way to write any one as a weighted sum of some of the others. If this assumption fails, it’s impossible to estimate beta.\"\n",
    "\n",
    "* \"The second important assumption is that the columns of x are all uncorrelated with the errors ε . If this fails to be the case, our estimates of beta will be systematically wrong.\""
   ]
  },
  {
   "cell_type": "markdown",
   "metadata": {},
   "source": [
    "#### Fitting the model"
   ]
  },
  {
   "cell_type": "code",
   "execution_count": 2,
   "metadata": {},
   "outputs": [],
   "source": [
    "def error(x_i, y_i, beta):\n",
    "    return y_i - predict(x_i, beta)\n",
    "\n",
    "def squared_error(x_i, y_i, beta):\n",
    "    return error(x_i, y_i, beta) ** 2"
   ]
  },
  {
   "cell_type": "code",
   "execution_count": 3,
   "metadata": {},
   "outputs": [],
   "source": [
    "def squared_error_gradient(x_i, y_i, beta):\n",
    "    \"\"\"\n",
    "    the gradient (with respect to beta)\n",
    "    corresponding to the ith squared error term\n",
    "    \"\"\"\n",
    "    return [-2 * x_ij * error(x_i, y_i, beta) \n",
    "            for x_ij in x_i]"
   ]
  },
  {
   "cell_type": "code",
   "execution_count": 4,
   "metadata": {},
   "outputs": [],
   "source": [
    "def estimate_beta(x, y):\n",
    "    beta_initial = [random.random() for x_i in x[0]]\n",
    "    return minimize_stochastic(squared_error,\n",
    "                               squared_error_gradient,x,y,\n",
    "                               beta_initial,0.001)"
   ]
  },
  {
   "cell_type": "markdown",
   "metadata": {},
   "source": [
    "#### Interpreting the model"
   ]
  },
  {
   "cell_type": "markdown",
   "metadata": {},
   "source": [
    "- \"You should think of the coefficients of the model as representing all-else-being-equal estimates of the impacts of each factor.\"\n",
    "\n",
    "- \"What this doesn’t (directly) tell us is anything about the interactions among the variables.\""
   ]
  },
  {
   "cell_type": "markdown",
   "metadata": {},
   "source": [
    "#### Goodness of Fit"
   ]
  },
  {
   "cell_type": "code",
   "execution_count": 5,
   "metadata": {},
   "outputs": [],
   "source": [
    "def multiple_r_squared(x, y, beta):\n",
    "    sum_of_squared_errors = sum(error(x_i, y_i, beta) ** 2 \n",
    "                                for x_i, y_i in zip(x, y))\n",
    "\n",
    "    return 1.0 - sum_of_squared_errors / total_sum_of_squares(y)"
   ]
  },
  {
   "cell_type": "markdown",
   "metadata": {},
   "source": [
    "\"**Keep in mind, however, that adding new variables to a regression will necessarily increase the R-squared.**\"\n",
    "\n",
    "- \"After all, the simple regression model is just the special case of the multiple regression model\".\n",
    "- \"The optimal multiple regression model will necessarily have an error at least as small as that one.\""
   ]
  },
  {
   "cell_type": "markdown",
   "metadata": {},
   "source": [
    "\"Because of this, in a multiple regression, we also need to look at the *standard errors* of the coefficients, which measure how certain we are about our estimates of each $\\beta_i$.\"\n",
    "\n",
    "- \"The regression as a whole may fit our data very well, but if some of the independent variables are correlated (or irrelevant), their coefficients might not mean much.\""
   ]
  },
  {
   "cell_type": "markdown",
   "metadata": {},
   "source": [
    "\"The typical approach to measuring these errors starts with another assumption—that the errors ε i are independent normal random variables with mean 0 and some shared (unknown) standard deviation σ .\"\n",
    "\n",
    "- \"In that case, we can use some linear algebra to find the standard error of each coefficient. The larger it is, the less sure our model is about that coefficient.\""
   ]
  },
  {
   "cell_type": "markdown",
   "metadata": {},
   "source": [
    "#### Digression: The Bootstrap ####"
   ]
  },
  {
   "cell_type": "code",
   "execution_count": 8,
   "metadata": {},
   "outputs": [],
   "source": [
    "import random\n",
    "\n",
    "def bootstrap_sample(data):\n",
    "    \"\"\"\n",
    "    randomly samples len(data) elements with replacement\n",
    "    \"\"\"\n",
    "    return [random.choice(data) for _ in data]\n",
    "\n",
    "def bootstrap_statistic(data, stats_fn, num_samples):\n",
    "    \"\"\"\n",
    "    evaluates stats_fn on num_samples bootstrap samples from data\n",
    "    \"\"\"\n",
    "    return [stats_fn(bootstrap_sample(data)) \n",
    "            for _ in range(num_samples)]"
   ]
  },
  {
   "cell_type": "code",
   "execution_count": 11,
   "metadata": {},
   "outputs": [],
   "source": [
    "def median(v):\n",
    "    \"\"\"\n",
    "    finds the 'middle-most' value of v\n",
    "    \"\"\"\n",
    "    n = len(v)\n",
    "    sorted_v = sorted(v)\n",
    "    midpoint = n // 2\n",
    "    if n % 2 == 1:\n",
    "        # if odd, return the middle value\n",
    "        return sorted_v[midpoint]\n",
    "    else:\n",
    "        # if even, return the average of the middle values\n",
    "        lo = midpoint - 1\n",
    "        hi = midpoint\n",
    "        return (sorted_v[lo] + sorted_v[hi]) / 2"
   ]
  },
  {
   "cell_type": "code",
   "execution_count": 12,
   "metadata": {},
   "outputs": [],
   "source": [
    "# 101 points all very close to 100\n",
    "close_to_100 = [99.5 + random.random() for _ in range(101)]\n",
    "\n",
    "# 101 points, 50 of them near 0, 50 of them near 200\n",
    "far_from_100 = ([99.5 + random.random()] + \n",
    "                [random.random() for _ in range(50)] + \n",
    "                [200 + random.random() for _ in range(50)])"
   ]
  },
  {
   "cell_type": "code",
   "execution_count": 14,
   "metadata": {},
   "outputs": [],
   "source": [
    "import matplotlib.pyplot as plt\n",
    "%matplotlib inline"
   ]
  },
  {
   "cell_type": "code",
   "execution_count": 16,
   "metadata": {},
   "outputs": [
    {
     "data": {
      "text/plain": [
       "[<matplotlib.lines.Line2D at 0x7fa08be91588>]"
      ]
     },
     "execution_count": 16,
     "metadata": {},
     "output_type": "execute_result"
    },
    {
     "data": {
      "image/png": "[encoded data removed]",
      "text/plain": [
       "<Figure size 432x288 with 1 Axes>"
      ]
     },
     "metadata": {
      "needs_background": "light"
     },
     "output_type": "display_data"
    }
   ],
   "source": [
    "plt.plot(bootstrap_statistic(close_to_100, median, 100),label='close')\n",
    "plt.plot(bootstrap_statistic(far_from_100, median, 100),label='far')"
   ]
  },
  {
   "cell_type": "markdown",
   "metadata": {},
   "source": [
    "#### Standard Errors of Regression Coefficients"
   ]
  },
  {
   "cell_type": "markdown",
   "metadata": {},
   "source": [
    "\"We can take the same approach to estimating the standard errors of our regression coefficients. We repeatedly take a bootstrap_sample of our data and estimate beta based on that sample.\"\n",
    "\n",
    "- \"If the coefficient corresponding to one of the independent variables doesn’t vary much across samples, then we can be confident that our estimate is relatively tight.\"\n",
    "- \"If the coefficient varies greatly across samples, then we can’t be at all confident in our estimate.\""
   ]
  },
  {
   "cell_type": "markdown",
   "metadata": {},
   "source": [
    "\"**The only subtlety is that, before sampling, we’ll need to zip our x data and y data to make sure that corresponding values of the independent and dependent variables are sampled together.**\"\n",
    "\n",
    "- \"This means that bootstrap_sample will return a list of pairs ($x_i$,$y_i$), which we’ll need to reassemble into an x_sample and a y_sample :\""
   ]
  },
  {
   "cell_type": "code",
   "execution_count": 17,
   "metadata": {},
   "outputs": [],
   "source": [
    "def estimate_sample_beta(sample):\n",
    "    \"\"\"\n",
    "    sample is a list of pairs (x_i, y_i)\n",
    "    \"\"\"\n",
    "    x_sample, y_sample = zip(*sample) # magic unzipping trick\n",
    "    return estimate_beta(x_sample, y_sample)"
   ]
  },
  {
   "cell_type": "markdown",
   "metadata": {},
   "source": [
    "~~~\n",
    "random.seed(0) # so that you get the same results as me\n",
    "bootstrap_betas = bootstrap_statistic(zip(x,daily_minutes_good),\n",
    "                                        estimate_sample_beta,\n",
    "                                        100)\n",
    "bootstrap_standard_errors = [standard_deviation([beta[i] \n",
    "                                for beta in bootstrap_betas])\n",
    "                                for i in range(4)]\n",
    "~~~"
   ]
  },
  {
   "cell_type": "markdown",
   "metadata": {},
   "source": [
    "#### Regularization"
   ]
  },
  {
   "cell_type": "markdown",
   "metadata": {},
   "source": [
    "\"In practice, you’d often like to apply linear regression to data sets with large numbers of variables. This creates a couple of extra wrinkles.\"\n",
    "\n",
    "- \"First, the more variables you use, the more likely you are to overfit your model to the training set.\"\n",
    "- \"And second, the more nonzero coefficients you have, the harder it is to make sense of them.\"\n",
    "\n",
    "\"**If the goal is to explain some phenomenon, a sparse model with three factors might be more useful than a slightly better model with hundreds.**\""
   ]
  },
  {
   "cell_type": "markdown",
   "metadata": {},
   "source": [
    "**Regularization**: \"an approach in which we add to the error term a penalty that gets larger as beta gets larger. We then minimize the combined error and penalty. The more importance we place on the penalty term, the more we discourage large coefficients."
   ]
  },
  {
   "cell_type": "markdown",
   "metadata": {},
   "source": [
    "##### Ridge Regression #####"
   ]
  },
  {
   "cell_type": "markdown",
   "metadata": {},
   "source": [
    "\"\\[W\\]e add a penalty proportional to the sum of the squares of the beta_i . (Except that typically we don’t penalize beta_0 , the constant term.)\""
   ]
  },
  {
   "cell_type": "code",
   "execution_count": 19,
   "metadata": {},
   "outputs": [],
   "source": [
    "# alpha is a *hyperparameter* controlling how harsh the penalty is\n",
    "# sometimes it's called \"lambda\" but that already means something in Python\n",
    "def ridge_penalty(beta, alpha):\n",
    "    return alpha * dot(beta[1:], beta[1:])\n",
    "\n",
    "def squared_error_ridge(x_i, y_i, beta, alpha):\n",
    "    \"\"\"\n",
    "    estimate error plus ridge penalty on beta\n",
    "    \"\"\"\n",
    "    return error(x_i, y_i, beta) ** 2 + ridge_penalty(beta, alpha)"
   ]
  },
  {
   "cell_type": "code",
   "execution_count": 21,
   "metadata": {},
   "outputs": [],
   "source": [
    "def ridge_penalty_gradient(beta, alpha):\n",
    "    \"\"\"\n",
    "    gradient of just the ridge penalty\n",
    "    \"\"\"\n",
    "    return [0] + [2 * alpha * beta_j for beta_j in beta[1:]]\n",
    "\n",
    "def squared_error_ridge_gradient(x_i, y_i, beta, alpha):\n",
    "    \"\"\"\n",
    "    the gradient corresponding to the ith squared error term\n",
    "    including the ridge penalty\n",
    "    \"\"\"\n",
    "    return vector_add(squared_error_gradient(x_i, y_i, beta),\n",
    "                      ridge_penalty_gradient(beta, alpha))\n",
    "\n",
    "def estimate_beta_ridge(x, y, alpha):\n",
    "    \"\"\"\n",
    "    use gradient descent to fit a ridge regression\n",
    "    with penalty alpha\n",
    "    \"\"\"\n",
    "    beta_initial = [random.random() for x_i in x[0]]\n",
    "    return minimize_stochastic(partial(squared_error_ridge, alpha=alpha),\n",
    "                               partial(squared_error_ridge_gradient,alpha=alpha),\n",
    "                               x, y,beta_initial,0.001)\n"
   ]
  },
  {
   "cell_type": "markdown",
   "metadata": {},
   "source": [
    "\"**Usually you’d want to rescale your data before using this approach. After all, if you changed years of experience to centuries\n",
    "of experience, its least squares coefficient would increase by a factor of 100 and suddenly get penalized much more, even though it’s\n",
    "the same model.**\""
   ]
  },
  {
   "cell_type": "markdown",
   "metadata": {},
   "source": [
    "##### Lasso Regression #####"
   ]
  },
  {
   "cell_type": "code",
   "execution_count": 22,
   "metadata": {},
   "outputs": [],
   "source": [
    "def lasso_penalty(beta, alpha):\n",
    "    return alpha * sum(abs(beta_i) for beta_i in beta[1:])"
   ]
  },
  {
   "cell_type": "markdown",
   "metadata": {},
   "source": [
    "\"Whereas the ridge penalty shrank the coefficients overall, the lasso penalty tends to force coefficients to be zero, which makes it good for learning sparse models.\"\n",
    "\n",
    "- \"\\[...\\] it’s not amenable to gradient descent\"."
   ]
  },
  {
   "cell_type": "code",
   "execution_count": null,
   "metadata": {},
   "outputs": [],
   "source": []
  }
 ],
 "metadata": {
  "kernelspec": {
   "display_name": "Python 3",
   "language": "python",
   "name": "python3"
  },
  "language_info": {
   "codemirror_mode": {
    "name": "ipython",
    "version": 3
   },
   "file_extension": ".py",
   "mimetype": "text/x-python",
   "name": "python",
   "nbconvert_exporter": "python",
   "pygments_lexer": "ipython3",
   "version": "3.7.3"
  }
 },
 "nbformat": 4,
 "nbformat_minor": 2
}
